{
 "cells": [
  {
   "cell_type": "markdown",
   "metadata": {},
   "source": [
    "# Statement of the Problem"
   ]
  },
  {
   "cell_type": "markdown",
   "metadata": {},
   "source": [
    "We want to solve the system of equations given by"
   ]
  },
  {
   "cell_type": "markdown",
   "metadata": {},
   "source": [
    "$$\n",
    "\\phi''(y)-4\\phi'(y)-\\epsilon(\\epsilon - 4)\\phi(y) + \\lambda h^2(y) = 0 \\\\ \n",
    "h''(y)-4 h'(y) - (m_h^2 - \\lambda \\phi(y))h(y) = 0\n",
    "$$"
   ]
  },
  {
   "cell_type": "markdown",
   "metadata": {},
   "source": [
    "with boundary conditions"
   ]
  },
  {
   "cell_type": "markdown",
   "metadata": {},
   "source": [
    "$$\n",
    "\\phi(0) = v_0, \\quad \\phi(y_1) = v_1, \\quad h'(0) = \\frac{M_0^2}{2}h(0), \\quad h'(y_1) = -\\lambda_h h(y_1)\\left( h^2(y_1) - \\frac{v_h^2}{2}\\right)\n",
    "$$"
   ]
  },
  {
   "cell_type": "markdown",
   "metadata": {},
   "source": [
    "We do get a numerically more tractable equation if we parametrize $h(y)$ as "
   ]
  },
  {
   "cell_type": "markdown",
   "metadata": {},
   "source": [
    "$$\n",
    "h(y)=\\tilde{h} e^{2(y-y_1)}f(y)\n",
    "$$"
   ]
  },
  {
   "cell_type": "markdown",
   "metadata": {},
   "source": [
    "In this parametrization, the differential equation for $f$ becomes"
   ]
  },
  {
   "cell_type": "markdown",
   "metadata": {},
   "source": [
    "$$\n",
    "f''(y) - (4 + m_h^2 -\\lambda \\phi(y))f(y) = 0\n",
    "$$"
   ]
  },
  {
   "cell_type": "markdown",
   "metadata": {},
   "source": [
    "with boundary conditions for $f$ become"
   ]
  },
  {
   "cell_type": "markdown",
   "metadata": {},
   "source": [
    "$$\n",
    "f'(0) = \\left(\\frac{M_0^2}{2}-2\\right)f(0),\\quad 2 + \\frac{f'(y_1)}{f(y_1)}=-\\lambda_h \\left(\\tilde{h}^2 f^2(y_1) - \\frac{v_h^2}{2}\\right)\n",
    "$$"
   ]
  },
  {
   "cell_type": "markdown",
   "metadata": {},
   "source": [
    "# Building the initial guess"
   ]
  },
  {
   "cell_type": "markdown",
   "metadata": {},
   "source": [
    "In order to use `solve_bvp` we need to create an initial guess. We will do this as follows: First we do consider the differential equation for $\\phi(y)$ by neglecting the $\\lambda h^2(y)$ term. Then the differential equation can be exactly solved to give"
   ]
  },
  {
   "cell_type": "markdown",
   "metadata": {},
   "source": [
    "$$\n",
    "\\phi_0(y) = \\phi_{\\epsilon} e^{\\epsilon y} + \\phi_4 e^{(4-\\epsilon)y}\n",
    "$$"
   ]
  },
  {
   "cell_type": "markdown",
   "metadata": {},
   "source": [
    "where $\\phi_{\\epsilon}$ and $\\phi_4$ are coefficients determined using the boundary conditions. We can easily find"
   ]
  },
  {
   "cell_type": "markdown",
   "metadata": {},
   "source": [
    "$$\n",
    "\\phi_4 = v_0 - \\phi_{\\epsilon}\\quad ,\\phi_{\\epsilon} = \\frac{v_1 - v_0 e^{(4-\\epsilon)y_1}}{e^{\\epsilon y_1} - e^{(4-\\epsilon)y_1}}\n",
    "$$"
   ]
  },
  {
   "cell_type": "markdown",
   "metadata": {},
   "source": [
    "Let's create the function which will return this solution."
   ]
  },
  {
   "cell_type": "code",
   "execution_count": 1,
   "metadata": {},
   "outputs": [
    {
     "data": {
      "text/plain": [
       "Context(prec=60, rounding=ROUND_HALF_EVEN, Emin=-999999, Emax=999999, capitals=1, clamp=0, flags=[], traps=[InvalidOperation, DivisionByZero, Overflow])"
      ]
     },
     "execution_count": 1,
     "metadata": {},
     "output_type": "execute_result"
    }
   ],
   "source": [
    "## Looks like we need to work with the decimal module\n",
    "from decimal import *\n",
    "\n",
    "## We also need higher precision\n",
    "getcontext().prec = 60\n",
    "\n",
    "getcontext()"
   ]
  },
  {
   "cell_type": "code",
   "execution_count": 2,
   "metadata": {},
   "outputs": [],
   "source": [
    "import numpy as np\n",
    "\n",
    "param = []\n",
    "param.append(Decimal('0.1')) # v0\n",
    "param.append(Decimal('1')) # v1\n",
    "param.append(Decimal('0.1')) # epsilon\n",
    "param.append(Decimal('25951')/Decimal('1000'))# y1\n",
    "param.append(Decimal('-349')/Decimal('90')) # mhsq\n",
    "param.append(Decimal('2')/Decimal('9')) # lambda\n",
    "param.append(Decimal('0.125')) # lambda_h\n",
    "param.append(Decimal('4')) # m0sq\n",
    "param.append(Decimal('-20')) # vhsq\n",
    "param.append(Decimal('0.1')) # delta T\n",
    "\n",
    "def GW0(y):\n",
    "    yDec = Decimal(str(y))\n",
    "    v0, v1, epsilon, y1 = param[:4]\n",
    "    GWeps = (v1 - v0*np.exp((4 - epsilon)*y1))/(np.exp(epsilon*y1) - np.exp((4 - epsilon)*y1))\n",
    "    GW4 = v0 - GWeps\n",
    "    res = GWeps * np.exp(epsilon*yDec) + GW4 * np.exp((4 - epsilon)*yDec)\n",
    "    return res.quantize(Decimal('0.000000000000001'), rounding=ROUND_DOWN)\n",
    "\n",
    "def GW0Der(y):\n",
    "    yDec = Decimal(str(y))\n",
    "    v0, v1, epsilon, y1 = param[:4]\n",
    "    GWeps = (v1 - v0*np.exp((4 - epsilon)*y1))/(np.exp(epsilon*y1) - np.exp((4 - epsilon)*y1))\n",
    "    GW4 = v0 - GWeps\n",
    "    res = epsilon * GWeps * np.exp(epsilon*yDec) + (4 - epsilon) * GW4 * np.exp((4 - epsilon)*yDec)\n",
    "    return res.quantize(Decimal('0.000000000000001'), rounding=ROUND_DOWN)"
   ]
  },
  {
   "cell_type": "markdown",
   "metadata": {},
   "source": [
    "The next task is to create an initial guess for $f$. A reasonable choice can be obtained by solving the $f$ equation numerically by replacing $\\phi$ with $\\phi_0$. We can solve this as an initial value problem by setting $f(0) \\equiv 1$. If we call this solution $f_0$ then our goal is to solve"
   ]
  },
  {
   "cell_type": "markdown",
   "metadata": {},
   "source": [
    "$$\n",
    "f_0''(y) - (4 + m_h^2 - \\lambda \\phi_0(y)) f_0(y) = 0\n",
    "$$"
   ]
  },
  {
   "cell_type": "markdown",
   "metadata": {},
   "source": [
    "with initial conditions "
   ]
  },
  {
   "cell_type": "markdown",
   "metadata": {},
   "source": [
    "$$\n",
    "f_0(0) = 1,\\quad f_0'(0) = \\frac{m_0^2}{2} - 2\n",
    "$$"
   ]
  },
  {
   "cell_type": "markdown",
   "metadata": {},
   "source": [
    "In order to use `solve_ivp`, we need to convert this into a first order system. We can do this easily by defining $\\vec{F} \\equiv (f_0, f_0')$. Then the first order system takes the form"
   ]
  },
  {
   "cell_type": "markdown",
   "metadata": {},
   "source": [
    "$$\n",
    "F_1' = F_2, \\quad F_2' = (4 + m_h^2 - \\lambda \\phi_0)F_1\n",
    "$$"
   ]
  },
  {
   "cell_type": "markdown",
   "metadata": {},
   "source": [
    "with initial conditions"
   ]
  },
  {
   "cell_type": "markdown",
   "metadata": {},
   "source": [
    "$$\n",
    "F_1(0) = 1, \\quad F_2(0) = \\frac{m_0^2}{2}-2\n",
    "$$"
   ]
  },
  {
   "cell_type": "markdown",
   "metadata": {},
   "source": [
    "First we create function which will return the RHS"
   ]
  },
  {
   "cell_type": "code",
   "execution_count": 3,
   "metadata": {},
   "outputs": [],
   "source": [
    "def f0RHS(y, F):\n",
    "    mhsq, lambdaGW = param[4:6]\n",
    "    return (F[1], float((4 + mhsq - lambdaGW*GW0(y)))*F[0])"
   ]
  },
  {
   "cell_type": "markdown",
   "metadata": {},
   "source": [
    "Now we will create the array for the boundary conditons"
   ]
  },
  {
   "cell_type": "code",
   "execution_count": 4,
   "metadata": {},
   "outputs": [],
   "source": [
    "f0BC = (1, float(param[7]/2 -2))"
   ]
  },
  {
   "cell_type": "markdown",
   "metadata": {},
   "source": [
    "We can try the solver now."
   ]
  },
  {
   "cell_type": "code",
   "execution_count": 5,
   "metadata": {},
   "outputs": [
    {
     "data": {
      "text/plain": [
       "True"
      ]
     },
     "execution_count": 5,
     "metadata": {},
     "output_type": "execute_result"
    }
   ],
   "source": [
    "from scipy.integrate import solve_ivp\n",
    "f0Sol = solve_ivp(f0RHS, [0, float(param[3])], f0BC)\n",
    "f0Sol.success"
   ]
  },
  {
   "cell_type": "markdown",
   "metadata": {},
   "source": [
    "No problem so far. Let's check the solution"
   ]
  },
  {
   "cell_type": "code",
   "execution_count": 6,
   "metadata": {},
   "outputs": [
    {
     "data": {
      "image/png": "[encoded data removed]",
      "text/plain": [
       "<Figure size 432x288 with 1 Axes>"
      ]
     },
     "metadata": {},
     "output_type": "display_data"
    }
   ],
   "source": [
    "%matplotlib inline\n",
    "\n",
    "import matplotlib.pyplot as plt\n",
    "\n",
    "plt.plot(f0Sol.t, f0Sol.y[0])\n",
    "plt.show()"
   ]
  },
  {
   "cell_type": "markdown",
   "metadata": {},
   "source": [
    "It looks like the correct solution but very few points. Let's try playing with `rtol` option."
   ]
  },
  {
   "cell_type": "code",
   "execution_count": 7,
   "metadata": {},
   "outputs": [
    {
     "data": {
      "text/plain": [
       "True"
      ]
     },
     "execution_count": 7,
     "metadata": {},
     "output_type": "execute_result"
    }
   ],
   "source": [
    "f0SolrE5 = solve_ivp(f0RHS, [0, float(param[3])], f0BC, rtol = 1e-5, atol = 1e-10)\n",
    "f0SolrE5.success"
   ]
  },
  {
   "cell_type": "code",
   "execution_count": 8,
   "metadata": {},
   "outputs": [
    {
     "data": {
      "image/png": "[encoded data removed]",
      "text/plain": [
       "<Figure size 432x288 with 1 Axes>"
      ]
     },
     "metadata": {},
     "output_type": "display_data"
    }
   ],
   "source": [
    "plt.plot(f0Sol.t, f0Sol.y[0], label='rtol = 1e-3, atol = 1e-6')\n",
    "plt.plot(f0SolrE5.t, f0SolrE5.y[0], label='rtol = 1e-5, atol = 1e-10')\n",
    "plt.legend()\n",
    "plt.show()"
   ]
  },
  {
   "cell_type": "markdown",
   "metadata": {},
   "source": [
    "Seems working. Let's add one more"
   ]
  },
  {
   "cell_type": "code",
   "execution_count": 9,
   "metadata": {},
   "outputs": [
    {
     "data": {
      "text/plain": [
       "True"
      ]
     },
     "execution_count": 9,
     "metadata": {},
     "output_type": "execute_result"
    }
   ],
   "source": [
    "f0SolrE8 = solve_ivp(f0RHS, [0, float(param[3])], f0BC, rtol = 1e-8, atol=1e-16)\n",
    "f0SolrE8.success"
   ]
  },
  {
   "cell_type": "code",
   "execution_count": 10,
   "metadata": {},
   "outputs": [
    {
     "data": {
      "image/png": "[encoded data removed]",
      "text/plain": [
       "<Figure size 432x288 with 1 Axes>"
      ]
     },
     "metadata": {},
     "output_type": "display_data"
    }
   ],
   "source": [
    "plt.plot(f0Sol.t, f0Sol.y[0], label='rtol = 1e-3, atol = 1e-6')\n",
    "plt.plot(f0SolrE5.t, f0SolrE5.y[0], label='rtol = 1e-5, atol = 1e-10')\n",
    "plt.plot(f0SolrE8.t, f0SolrE8.y[0], label='rtol = 1e-8, atol = 1e-16')\n",
    "plt.legend()\n",
    "plt.show()"
   ]
  },
  {
   "cell_type": "markdown",
   "metadata": {},
   "source": [
    "Let's check the values on the boundary."
   ]
  },
  {
   "cell_type": "code",
   "execution_count": 11,
   "metadata": {},
   "outputs": [
    {
     "name": "stdout",
     "output_type": "stream",
     "text": [
      "6.988315004953613 7.017038295371648 7.017154260072229\n"
     ]
    }
   ],
   "source": [
    "print(f0Sol.y[0][-1],f0SolrE5.y[0][-1],f0SolrE8.y[0][-1])"
   ]
  },
  {
   "cell_type": "markdown",
   "metadata": {},
   "source": [
    "The value computed with `Mathematica` is $7.0171542411630329642075794582046527517$."
   ]
  },
  {
   "cell_type": "code",
   "execution_count": 12,
   "metadata": {},
   "outputs": [
    {
     "data": {
      "text/plain": [
       "-1.8909195986793748e-08"
      ]
     },
     "execution_count": 12,
     "metadata": {},
     "output_type": "execute_result"
    }
   ],
   "source": [
    "7.0171542411630329642075794582046527517 - f0SolrE8.y[0][-1]"
   ]
  },
  {
   "cell_type": "markdown",
   "metadata": {},
   "source": [
    "The agreement lies within the tolerance given by `rtol`."
   ]
  },
  {
   "cell_type": "markdown",
   "metadata": {},
   "source": [
    "Let's check the number of mesh points."
   ]
  },
  {
   "cell_type": "code",
   "execution_count": 13,
   "metadata": {},
   "outputs": [
    {
     "name": "stdout",
     "output_type": "stream",
     "text": [
      "11 25 88\n"
     ]
    }
   ],
   "source": [
    "print(len(f0Sol.t),len(f0SolrE5.t),len(f0SolrE8.t))"
   ]
  },
  {
   "cell_type": "markdown",
   "metadata": {},
   "source": [
    "Finally calculate the $\\tilde{h}^2$"
   ]
  },
  {
   "cell_type": "code",
   "execution_count": 14,
   "metadata": {},
   "outputs": [
    {
     "name": "stdout",
     "output_type": "stream",
     "text": [
      "-22.866761622279547 -22.834248245184394 -22.834105196831615\n"
     ]
    }
   ],
   "source": [
    "print(f0Sol.y[1][-1],f0SolrE5.y[1][-1],f0SolrE8.y[1][-1])"
   ]
  },
  {
   "cell_type": "code",
   "execution_count": 16,
   "metadata": {},
   "outputs": [
    {
     "name": "stdout",
     "output_type": "stream",
     "text": [
      "0.0006564761873934516\n"
     ]
    }
   ],
   "source": [
    "f0IR = f0SolrE8.y[0][-1]\n",
    "f0pIR = f0SolrE8.y[1][-1]\n",
    "h0sq = (float(param[8])/2. - (2 + f0pIR/f0IR)*(1./float(param[6])))*(1./(f0IR**2))\n",
    "print(h0sq)"
   ]
  },
  {
   "cell_type": "markdown",
   "metadata": {},
   "source": [
    "`Mathematica` result is $0.00065647560106172245582415781579615580$."
   ]
  },
  {
   "cell_type": "code",
   "execution_count": 17,
   "metadata": {},
   "outputs": [
    {
     "data": {
      "text/plain": [
       "-5.863317291540313e-10"
      ]
     },
     "execution_count": 17,
     "metadata": {},
     "output_type": "execute_result"
    }
   ],
   "source": [
    "0.00065647560106172245582415781579615580 - h0sq"
   ]
  },
  {
   "cell_type": "markdown",
   "metadata": {},
   "source": [
    "Again agrees within the tolerance. "
   ]
  },
  {
   "cell_type": "markdown",
   "metadata": {},
   "source": [
    "# Solving BVP"
   ]
  },
  {
   "cell_type": "markdown",
   "metadata": {},
   "source": [
    "Now we return to solving our BVP"
   ]
  },
  {
   "cell_type": "markdown",
   "metadata": {},
   "source": [
    "$$\n",
    "\\phi''(y)-4\\phi'(y)-\\epsilon(\\epsilon - 4)\\phi(y) + \\lambda \\tilde{h}^2 e^{4(y-y_1)}f^2(y) = 0\\\\\n",
    "f''(y) - (4 + m_h^2 -\\lambda \\phi(y))f(y) = 0\n",
    "$$"
   ]
  },
  {
   "cell_type": "markdown",
   "metadata": {},
   "source": [
    "with boundary conditions"
   ]
  },
  {
   "cell_type": "markdown",
   "metadata": {},
   "source": [
    "$$\n",
    "\\phi(0) = v_0, \\quad \\phi(y_1) = v_1, \\quad f'(0) = \\left(\\frac{M_0^2}{2}-2\\right)f(0),\\quad 2 + \\frac{f'(y_1)}{f(y_1)}=-\\lambda_h \\left(\\tilde{h}^2 f^2(y_1) - \\frac{v_h^2}{2}\\right)\n",
    "$$"
   ]
  },
  {
   "cell_type": "markdown",
   "metadata": {},
   "source": [
    "We do still have an unknown parameter $\\tilde{h}$. Fortunately we can setup `solve_bvp` to find this unknown parameter too. We just need an additional boundary condition which we will take as before $f(0)=1$. "
   ]
  },
  {
   "cell_type": "markdown",
   "metadata": {},
   "source": [
    "Again we need to convert this 2nd order system to a first order system. Defining $\\vec{F} = (\\phi, \\phi',f,f')$ yields"
   ]
  },
  {
   "cell_type": "markdown",
   "metadata": {},
   "source": [
    "$$\n",
    "F'_0 = F_1 \\\\\n",
    "F'_1 = 4 F_1 + \\epsilon(\\epsilon -4)F_0 -\\lambda \\tilde{h}^2 e^{4(y-y_1)}F_2^2 \\\\\n",
    "F_2' = F_3 \\\\\n",
    "F_3' = (4 + m_h^2 - \\lambda F_0)F_2\n",
    "$$"
   ]
  },
  {
   "cell_type": "markdown",
   "metadata": {},
   "source": [
    "with boundary conditions"
   ]
  },
  {
   "cell_type": "markdown",
   "metadata": {},
   "source": [
    "$$\n",
    "F_0(0) - v_0 = 0 \\\\\n",
    "F_0(y_1) - v_1 = 0 \\\\\n",
    "F_2(0) - 1 = 0 \\\\\n",
    "F_3(0) - \\left(\\frac{m_0^2}{2}-2\\right) F_2(0) =0\\\\\n",
    "F_3(y_1) + 2 F_2(y_1) + \\lambda_h \\left(\\tilde{h}^2 (F_2(y_1))^2 - \\frac{v_h^2}{2}\\right)F_2(y_1)=0\n",
    "$$"
   ]
  },
  {
   "cell_type": "markdown",
   "metadata": {},
   "source": [
    "First we implement the RHS."
   ]
  },
  {
   "cell_type": "code",
   "execution_count": 18,
   "metadata": {},
   "outputs": [],
   "source": [
    "def fRHS(y, F, p):\n",
    "    hsq = p[0]\n",
    "    mhsq, lambdaGW = list(map(float, param[4:6]))\n",
    "    epsilon = float(param[2])\n",
    "    y1 = float(param[3])\n",
    "    return np.vstack((F[1], 4*F[1] + epsilon*(epsilon - 4)*F[0] - lambdaGW*hsq*np.exp(4*(y-y1))*(F[2]**2), F[3], (4 + mhsq - lambdaGW*F[0])*F[2]))"
   ]
  },
  {
   "cell_type": "markdown",
   "metadata": {},
   "source": [
    "Create the mesh at which our guess was calculated"
   ]
  },
  {
   "cell_type": "code",
   "execution_count": 19,
   "metadata": {},
   "outputs": [],
   "source": [
    "yMesh = f0SolrE8.t"
   ]
  },
  {
   "cell_type": "markdown",
   "metadata": {},
   "source": [
    "In order to calculate the background solution at points given by `yMesh`, we need to `vectorize` the functions which give the background solution and derivative for GW."
   ]
  },
  {
   "cell_type": "code",
   "execution_count": 20,
   "metadata": {},
   "outputs": [],
   "source": [
    "GW0_v = np.vectorize(GW0)\n",
    "GW0Der_v = np.vectorize(GW0Der)"
   ]
  },
  {
   "cell_type": "code",
   "execution_count": null,
   "metadata": {},
   "outputs": [],
   "source": [
    "Finally calculate the guess, "
   ]
  },
  {
   "cell_type": "code",
   "execution_count": 22,
   "metadata": {
    "scrolled": true
   },
   "outputs": [],
   "source": [
    "FGuess = np.zeros((4,yMesh.size)) # Array which will hold our guess\n",
    "FGuess[0] = GW0_v(yMesh) # Guess for \\phi(y)\n",
    "FGuess[1] = GW0Der_v(yMesh) # Guess for \\phi'(y)\n",
    "FGuess[2] = f0SolrE8.y[0] # Guess for f(y)\n",
    "FGuess[3] = f0SolrE8.y[1] # Guess for f'(y)"
   ]
  },
  {
   "cell_type": "markdown",
   "metadata": {},
   "source": [
    "Next we implement the boundary conditions"
   ]
  },
  {
   "cell_type": "code",
   "execution_count": 23,
   "metadata": {},
   "outputs": [],
   "source": [
    "def fBC(Fa, Fb, p):\n",
    "    v0, v1 = list(map(float, param[0:2]))\n",
    "    lambdaH, m0sq, vsq = list(map(float, param[6:9]))\n",
    "    hsq = p[0]\n",
    "    return np.array([Fa[0] - v0, Fa[2] - 1, Fa[3] - (m0sq/2 - 2)*Fa[2], Fb[0] - v1, Fb[3] + 2*Fb[2] + lambdaH*(hsq*(Fb[2]**2)-(vsq/2))*Fb[2]])   "
   ]
  },
  {
   "cell_type": "code",
   "execution_count": 25,
   "metadata": {},
   "outputs": [
    {
     "data": {
      "text/plain": [
       "array([0.00000000e+00, 0.00000000e+00, 0.00000000e+00, 0.00000000e+00,\n",
       "       1.77635684e-15])"
      ]
     },
     "execution_count": 25,
     "metadata": {},
     "output_type": "execute_result"
    }
   ],
   "source": [
    "fBC([0.1, 0, 1.0, 0], [1.0, 0, f0IR, f0pIR], [h0sq])"
   ]
  },
  {
   "cell_type": "markdown",
   "metadata": {},
   "source": [
    "We have everything for the minimal run `solve_bvp(fun, bc, x, y, p)`. Let's give it a try"
   ]
  },
  {
   "cell_type": "code",
   "execution_count": 26,
   "metadata": {},
   "outputs": [
    {
     "data": {
      "text/plain": [
       "True"
      ]
     },
     "execution_count": 26,
     "metadata": {},
     "output_type": "execute_result"
    }
   ],
   "source": [
    "from scipy.integrate import solve_bvp\n",
    "\n",
    "fBVPTry1 = solve_bvp(fRHS, fBC, yMesh, FGuess, [h0sq])\n",
    "fBVPTry1.success"
   ]
  },
  {
   "cell_type": "markdown",
   "metadata": {},
   "source": [
    "It says it converged to required accuracy. We need to plot though, before celebrating. "
   ]
  },
  {
   "cell_type": "code",
   "execution_count": 28,
   "metadata": {},
   "outputs": [],
   "source": [
    "yPlotMesh = np.linspace(0, float(param[3]), 200) # Mesh for plotting\n",
    "fPlotsTry1 = fBVPTry1.sol(yPlotMesh) # Calculate the values of the solution as points specified by yPlotMesh"
   ]
  },
  {
   "cell_type": "code",
   "execution_count": 31,
   "metadata": {},
   "outputs": [
    {
     "data": {
      "image/png": "[encoded data removed]",
      "text/plain": [
       "<Figure size 432x288 with 1 Axes>"
      ]
     },
     "metadata": {},
     "output_type": "display_data"
    }
   ],
   "source": [
    "plt.plot(yPlotMesh, GW0_v(yPlotMesh),'b-', label='Exact Zeroth Order')\n",
    "plt.plot(yPlotMesh, fPlotsTry1[0],'r--', label='Full Numerical')\n",
    "plt.xlabel('y')\n",
    "plt.ylabel('phi(y)')\n",
    "plt.legend()\n",
    "plt.show()"
   ]
  },
  {
   "cell_type": "markdown",
   "metadata": {},
   "source": [
    "Is there a difference?"
   ]
  },
  {
   "cell_type": "code",
   "execution_count": 32,
   "metadata": {},
   "outputs": [
    {
     "data": {
      "image/png": "[encoded data removed]",
      "text/plain": [
       "<Figure size 432x288 with 1 Axes>"
      ]
     },
     "metadata": {},
     "output_type": "display_data"
    }
   ],
   "source": [
    "plt.plot(yPlotMesh, fPlotsTry1[0] - list(map(float,GW0_v(yPlotMesh))))\n",
    "plt.show()"
   ]
  },
  {
   "cell_type": "markdown",
   "metadata": {},
   "source": [
    "Yes there is! We can zoom in. "
   ]
  },
  {
   "cell_type": "code",
   "execution_count": 33,
   "metadata": {},
   "outputs": [
    {
     "data": {
      "image/png": "[encoded data removed]",
      "text/plain": [
       "<Figure size 432x288 with 1 Axes>"
      ]
     },
     "metadata": {},
     "output_type": "display_data"
    }
   ],
   "source": [
    "yPlotMeshZoom = np.linspace(24, float(param[3]), 200) # Mesh for plotting\n",
    "fPlotsTry1Zoom = fBVPTry1.sol(yPlotMeshZoom) # Calculate the values of the solution as points specified by yPlotMesh\n",
    "plt.plot(yPlotMeshZoom, fPlotsTry1Zoom[0] - list(map(float,GW0_v(yPlotMeshZoom))))\n",
    "plt.show()"
   ]
  },
  {
   "cell_type": "markdown",
   "metadata": {},
   "source": [
    "Let's plot everything. "
   ]
  },
  {
   "cell_type": "code",
   "execution_count": 44,
   "metadata": {},
   "outputs": [
    {
     "data": {
      "image/png": "[encoded data removed]",
      "text/plain": [
       "<Figure size 432x288 with 1 Axes>"
      ]
     },
     "metadata": {},
     "output_type": "display_data"
    }
   ],
   "source": [
    "plt.plot(yPlotMesh, fPlotsTry1[0])\n",
    "plt.title('GW Field')\n",
    "\n",
    "plt.show()"
   ]
  },
  {
   "cell_type": "code",
   "execution_count": 45,
   "metadata": {},
   "outputs": [
    {
     "data": {
      "image/png": "[encoded data removed]",
      "text/plain": [
       "<Figure size 432x288 with 1 Axes>"
      ]
     },
     "metadata": {},
     "output_type": "display_data"
    }
   ],
   "source": [
    "plt.plot(yPlotMesh, fPlotsTry1[1])\n",
    "plt.title('GW Field Derivative')\n",
    "\n",
    "plt.show()"
   ]
  },
  {
   "cell_type": "code",
   "execution_count": 46,
   "metadata": {},
   "outputs": [
    {
     "data": {
      "image/png": "[encoded data removed]",
      "text/plain": [
       "<Figure size 432x288 with 1 Axes>"
      ]
     },
     "metadata": {},
     "output_type": "display_data"
    }
   ],
   "source": [
    "plt.plot(yPlotMesh, fPlotsTry1[2])\n",
    "plt.title('Higgs Field - f(y)')\n",
    "\n",
    "plt.show()"
   ]
  },
  {
   "cell_type": "code",
   "execution_count": 47,
   "metadata": {},
   "outputs": [
    {
     "data": {
      "image/png": "[encoded data removed]",
      "text/plain": [
       "<Figure size 432x288 with 1 Axes>"
      ]
     },
     "metadata": {},
     "output_type": "display_data"
    }
   ],
   "source": [
    "plt.plot(yPlotMesh, fPlotsTry1[3])\n",
    "plt.title('Higgs Field Derivative - df/dy')\n",
    "\n",
    "plt.show()"
   ]
  },
  {
   "cell_type": "markdown",
   "metadata": {},
   "source": [
    "Calculate the ratio of the numerical and zeroth order exact GW solution "
   ]
  },
  {
   "cell_type": "code",
   "execution_count": 52,
   "metadata": {},
   "outputs": [
    {
     "data": {
      "image/png": "[encoded data removed]",
      "text/plain": [
       "<Figure size 432x288 with 1 Axes>"
      ]
     },
     "metadata": {},
     "output_type": "display_data"
    }
   ],
   "source": [
    "GWratio = []\n",
    "\n",
    "for i in range(len(yPlotMeshZoom)):\n",
    "    GWratio.append(fPlotsTry1Zoom[0][i]/float(GW0(yPlotMeshZoom[i])))\n",
    "    \n",
    "\n",
    "plt.plot(yPlotMeshZoom, GWratio , 'b-')\n",
    "plt.show()"
   ]
  },
  {
   "cell_type": "code",
   "execution_count": null,
   "metadata": {},
   "outputs": [],
   "source": []
  }
 ],
 "metadata": {
  "kernelspec": {
   "display_name": "Python 3",
   "language": "python",
   "name": "python3"
  },
  "language_info": {
   "codemirror_mode": {
    "name": "ipython",
    "version": 3
   },
   "file_extension": ".py",
   "mimetype": "text/x-python",
   "name": "python",
   "nbconvert_exporter": "python",
   "pygments_lexer": "ipython3",
   "version": "3.6.5"
  }
 },
 "nbformat": 4,
 "nbformat_minor": 2
}
